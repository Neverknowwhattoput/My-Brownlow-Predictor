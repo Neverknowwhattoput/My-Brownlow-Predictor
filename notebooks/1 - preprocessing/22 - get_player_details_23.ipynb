{
 "cells": [
  {
   "cell_type": "code",
   "execution_count": 1,
   "metadata": {},
   "outputs": [],
   "source": [
    "import pandas as pd"
   ]
  },
  {
   "cell_type": "code",
   "execution_count": 2,
   "metadata": {},
   "outputs": [],
   "source": [
    "df = pd.read_parquet('../../data/raw/stats_23.parquet')"
   ]
  },
  {
   "cell_type": "code",
   "execution_count": 3,
   "metadata": {},
   "outputs": [],
   "source": [
    "df = df.drop_duplicates('playerid')"
   ]
  },
  {
   "cell_type": "code",
   "execution_count": 4,
   "metadata": {},
   "outputs": [
    {
     "data": {
      "text/plain": [
       "Index(['match_id', 'round_number', 'venue_name', 'home_team_name',\n",
       "       'away_team_name', 'playerid', 'player_first_name', 'player_last_name',\n",
       "       'teamid', 'team_name', 'timeongroundpercentage', 'kicks', 'marks',\n",
       "       'handballs', 'disposals', 'effective_disposals', 'goals', 'behinds',\n",
       "       'hitouts', 'tackles', 'rebounds', 'inside_fifties', 'clearances',\n",
       "       'clangers', 'free_kicks_for', 'free_kicks_against',\n",
       "       'contested_possessions', 'uncontested_possessions', 'contested_marks',\n",
       "       'marks_inside_fifty', 'one_percenters', 'bounces', 'goal_assists',\n",
       "       'afl_fantasy_score', 'centre_clearances', 'stoppage_clearances',\n",
       "       'score_involvements', 'metres_gained', 'turnovers', 'intercepts',\n",
       "       'tackles_inside_fifty', 'contest_def_losses', 'contest_def_one_on_ones',\n",
       "       'contest_off_one_on_ones', 'contest_off_wins', 'def_half_pressure_acts',\n",
       "       'effective_kicks', 'f50_ground_ball_gets', 'ground_ball_gets',\n",
       "       'hitouts_to_advantage', 'hitout_win_percentage', 'intercept_marks',\n",
       "       'marks_on_lead', 'pressure_acts', 'rating_points', 'score_launches',\n",
       "       'spoils'],\n",
       "      dtype='object')"
      ]
     },
     "execution_count": 4,
     "metadata": {},
     "output_type": "execute_result"
    }
   ],
   "source": [
    "df.columns"
   ]
  },
  {
   "cell_type": "code",
   "execution_count": 5,
   "metadata": {},
   "outputs": [],
   "source": [
    "df = df[['playerid', 'player_first_name', 'player_last_name', 'team_name']]"
   ]
  },
  {
   "cell_type": "code",
   "execution_count": 6,
   "metadata": {},
   "outputs": [],
   "source": [
    "df.to_parquet('../../data/raw/player_information_23.parquet')"
   ]
  },
  {
   "cell_type": "code",
   "execution_count": null,
   "metadata": {},
   "outputs": [],
   "source": []
  }
 ],
 "metadata": {
  "kernelspec": {
   "display_name": "afl",
   "language": "python",
   "name": "python3"
  },
  "language_info": {
   "codemirror_mode": {
    "name": "ipython",
    "version": 3
   },
   "file_extension": ".py",
   "mimetype": "text/x-python",
   "name": "python",
   "nbconvert_exporter": "python",
   "pygments_lexer": "ipython3",
   "version": "3.11.4"
  },
  "orig_nbformat": 4
 },
 "nbformat": 4,
 "nbformat_minor": 2
}
