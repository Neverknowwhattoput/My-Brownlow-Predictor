{
 "cells": [
  {
   "cell_type": "markdown",
   "id": "1935fe82",
   "metadata": {},
   "source": [
    "# Preprocessing Data from Wheeloratings.com\n",
    "\n",
    "Fortunately within wheelo ratings' brownlow prediction csv they included coaches votes and supercoach score, so this is the source for these data points\n",
    "\n",
    "unfortunately the download button is not an actual link, so I could not automate the download.\n",
    "\n",
    "https://www.wheeloratings.com/afl_brownlow.html"
   ]
  },
  {
   "cell_type": "code",
   "execution_count": 1,
   "id": "d250045a",
   "metadata": {},
   "outputs": [],
   "source": [
    "import pandas as pd"
   ]
  },
  {
   "cell_type": "code",
   "execution_count": 41,
   "id": "b698bb4f",
   "metadata": {},
   "outputs": [],
   "source": [
    "# wheeloratings have a csv with uptodate coaches votes announced on awards night\n",
    "df = pd.read_csv('../../data/landing/wheelo-brownlow-predictions.csv')"
   ]
  },
  {
   "cell_type": "code",
   "execution_count": 42,
   "id": "9391c78d",
   "metadata": {},
   "outputs": [
    {
     "data": {
      "text/html": [
       "<div>\n",
       "<style scoped>\n",
       "    .dataframe tbody tr th:only-of-type {\n",
       "        vertical-align: middle;\n",
       "    }\n",
       "\n",
       "    .dataframe tbody tr th {\n",
       "        vertical-align: top;\n",
       "    }\n",
       "\n",
       "    .dataframe thead th {\n",
       "        text-align: right;\n",
       "    }\n",
       "</style>\n",
       "<table border=\"1\" class=\"dataframe\">\n",
       "  <thead>\n",
       "    <tr style=\"text-align: right;\">\n",
       "      <th></th>\n",
       "      <th>Round</th>\n",
       "      <th>Match</th>\n",
       "      <th>Player</th>\n",
       "      <th>Team</th>\n",
       "      <th>Rank</th>\n",
       "      <th>Votes</th>\n",
       "      <th>Votes3</th>\n",
       "      <th>Votes2</th>\n",
       "      <th>Votes1</th>\n",
       "      <th>CoachesVotes</th>\n",
       "      <th>RatingPoints</th>\n",
       "      <th>Supercoach</th>\n",
       "      <th>Disposals</th>\n",
       "      <th>ContestedPossessions</th>\n",
       "      <th>Clearances</th>\n",
       "      <th>MetresGained</th>\n",
       "      <th>Goals</th>\n",
       "      <th>ScoreInvolvements</th>\n",
       "    </tr>\n",
       "  </thead>\n",
       "  <tbody>\n",
       "    <tr>\n",
       "      <th>0</th>\n",
       "      <td>1</td>\n",
       "      <td>Rich v Carl</td>\n",
       "      <td>Daniel Rioli</td>\n",
       "      <td>Rich</td>\n",
       "      <td>1</td>\n",
       "      <td>2.007</td>\n",
       "      <td>40</td>\n",
       "      <td>21</td>\n",
       "      <td>39</td>\n",
       "      <td>10</td>\n",
       "      <td>17.6</td>\n",
       "      <td>126</td>\n",
       "      <td>27</td>\n",
       "      <td>6</td>\n",
       "      <td>0</td>\n",
       "      <td>681</td>\n",
       "      <td>0</td>\n",
       "      <td>5</td>\n",
       "    </tr>\n",
       "    <tr>\n",
       "      <th>1</th>\n",
       "      <td>1</td>\n",
       "      <td>Rich v Carl</td>\n",
       "      <td>Tim Taranto</td>\n",
       "      <td>Rich</td>\n",
       "      <td>2</td>\n",
       "      <td>1.801</td>\n",
       "      <td>30</td>\n",
       "      <td>22</td>\n",
       "      <td>47</td>\n",
       "      <td>3</td>\n",
       "      <td>7.2</td>\n",
       "      <td>103</td>\n",
       "      <td>32</td>\n",
       "      <td>12</td>\n",
       "      <td>5</td>\n",
       "      <td>542</td>\n",
       "      <td>0</td>\n",
       "      <td>4</td>\n",
       "    </tr>\n",
       "    <tr>\n",
       "      <th>2</th>\n",
       "      <td>1</td>\n",
       "      <td>Rich v Carl</td>\n",
       "      <td>George Hewett</td>\n",
       "      <td>Carl</td>\n",
       "      <td>3</td>\n",
       "      <td>0.810</td>\n",
       "      <td>11</td>\n",
       "      <td>21</td>\n",
       "      <td>6</td>\n",
       "      <td>3</td>\n",
       "      <td>12.4</td>\n",
       "      <td>89</td>\n",
       "      <td>28</td>\n",
       "      <td>14</td>\n",
       "      <td>8</td>\n",
       "      <td>122</td>\n",
       "      <td>0</td>\n",
       "      <td>3</td>\n",
       "    </tr>\n",
       "    <tr>\n",
       "      <th>3</th>\n",
       "      <td>1</td>\n",
       "      <td>Rich v Carl</td>\n",
       "      <td>Toby Nankervis</td>\n",
       "      <td>Rich</td>\n",
       "      <td>4</td>\n",
       "      <td>0.490</td>\n",
       "      <td>6</td>\n",
       "      <td>14</td>\n",
       "      <td>3</td>\n",
       "      <td>4</td>\n",
       "      <td>11.1</td>\n",
       "      <td>112</td>\n",
       "      <td>14</td>\n",
       "      <td>11</td>\n",
       "      <td>5</td>\n",
       "      <td>170</td>\n",
       "      <td>0</td>\n",
       "      <td>3</td>\n",
       "    </tr>\n",
       "    <tr>\n",
       "      <th>4</th>\n",
       "      <td>1</td>\n",
       "      <td>Rich v Carl</td>\n",
       "      <td>Dion Prestia</td>\n",
       "      <td>Rich</td>\n",
       "      <td>5</td>\n",
       "      <td>0.171</td>\n",
       "      <td>2</td>\n",
       "      <td>5</td>\n",
       "      <td>1</td>\n",
       "      <td>4</td>\n",
       "      <td>7.9</td>\n",
       "      <td>72</td>\n",
       "      <td>23</td>\n",
       "      <td>13</td>\n",
       "      <td>5</td>\n",
       "      <td>316</td>\n",
       "      <td>0</td>\n",
       "      <td>3</td>\n",
       "    </tr>\n",
       "  </tbody>\n",
       "</table>\n",
       "</div>"
      ],
      "text/plain": [
       "   Round        Match          Player  Team  Rank  Votes  Votes3  Votes2  \\\n",
       "0      1  Rich v Carl    Daniel Rioli  Rich     1  2.007      40      21   \n",
       "1      1  Rich v Carl     Tim Taranto  Rich     2  1.801      30      22   \n",
       "2      1  Rich v Carl   George Hewett  Carl     3  0.810      11      21   \n",
       "3      1  Rich v Carl  Toby Nankervis  Rich     4  0.490       6      14   \n",
       "4      1  Rich v Carl    Dion Prestia  Rich     5  0.171       2       5   \n",
       "\n",
       "   Votes1  CoachesVotes  RatingPoints  Supercoach  Disposals  \\\n",
       "0      39            10          17.6         126         27   \n",
       "1      47             3           7.2         103         32   \n",
       "2       6             3          12.4          89         28   \n",
       "3       3             4          11.1         112         14   \n",
       "4       1             4           7.9          72         23   \n",
       "\n",
       "   ContestedPossessions  Clearances  MetresGained  Goals  ScoreInvolvements  \n",
       "0                     6           0           681      0                  5  \n",
       "1                    12           5           542      0                  4  \n",
       "2                    14           8           122      0                  3  \n",
       "3                    11           5           170      0                  3  \n",
       "4                    13           5           316      0                  3  "
      ]
     },
     "execution_count": 42,
     "metadata": {},
     "output_type": "execute_result"
    }
   ],
   "source": [
    "df.head()"
   ]
  },
  {
   "cell_type": "code",
   "execution_count": 43,
   "id": "f84711ce",
   "metadata": {},
   "outputs": [
    {
     "data": {
      "text/plain": [
       "Index(['Round', 'Match', 'Player', 'Team', 'Rank', 'Votes', 'Votes3', 'Votes2',\n",
       "       'Votes1', 'CoachesVotes', 'RatingPoints', 'Supercoach', 'Disposals',\n",
       "       'ContestedPossessions', 'Clearances', 'MetresGained', 'Goals',\n",
       "       'ScoreInvolvements'],\n",
       "      dtype='object')"
      ]
     },
     "execution_count": 43,
     "metadata": {},
     "output_type": "execute_result"
    }
   ],
   "source": [
    "df.columns"
   ]
  },
  {
   "cell_type": "code",
   "execution_count": 44,
   "id": "4117fbc1",
   "metadata": {},
   "outputs": [],
   "source": [
    "df = df[['Round', 'Player', 'CoachesVotes', 'Supercoach']]"
   ]
  },
  {
   "cell_type": "code",
   "execution_count": 45,
   "id": "a0758f5e",
   "metadata": {},
   "outputs": [
    {
     "data": {
      "text/html": [
       "<div>\n",
       "<style scoped>\n",
       "    .dataframe tbody tr th:only-of-type {\n",
       "        vertical-align: middle;\n",
       "    }\n",
       "\n",
       "    .dataframe tbody tr th {\n",
       "        vertical-align: top;\n",
       "    }\n",
       "\n",
       "    .dataframe thead th {\n",
       "        text-align: right;\n",
       "    }\n",
       "</style>\n",
       "<table border=\"1\" class=\"dataframe\">\n",
       "  <thead>\n",
       "    <tr style=\"text-align: right;\">\n",
       "      <th></th>\n",
       "      <th>Round</th>\n",
       "      <th>Player</th>\n",
       "      <th>CoachesVotes</th>\n",
       "      <th>Supercoach</th>\n",
       "    </tr>\n",
       "  </thead>\n",
       "  <tbody>\n",
       "    <tr>\n",
       "      <th>0</th>\n",
       "      <td>1</td>\n",
       "      <td>Daniel Rioli</td>\n",
       "      <td>10</td>\n",
       "      <td>126</td>\n",
       "    </tr>\n",
       "    <tr>\n",
       "      <th>1</th>\n",
       "      <td>1</td>\n",
       "      <td>Tim Taranto</td>\n",
       "      <td>3</td>\n",
       "      <td>103</td>\n",
       "    </tr>\n",
       "    <tr>\n",
       "      <th>2</th>\n",
       "      <td>1</td>\n",
       "      <td>George Hewett</td>\n",
       "      <td>3</td>\n",
       "      <td>89</td>\n",
       "    </tr>\n",
       "    <tr>\n",
       "      <th>3</th>\n",
       "      <td>1</td>\n",
       "      <td>Toby Nankervis</td>\n",
       "      <td>4</td>\n",
       "      <td>112</td>\n",
       "    </tr>\n",
       "    <tr>\n",
       "      <th>4</th>\n",
       "      <td>1</td>\n",
       "      <td>Dion Prestia</td>\n",
       "      <td>4</td>\n",
       "      <td>72</td>\n",
       "    </tr>\n",
       "  </tbody>\n",
       "</table>\n",
       "</div>"
      ],
      "text/plain": [
       "   Round          Player  CoachesVotes  Supercoach\n",
       "0      1    Daniel Rioli            10         126\n",
       "1      1     Tim Taranto             3         103\n",
       "2      1   George Hewett             3          89\n",
       "3      1  Toby Nankervis             4         112\n",
       "4      1    Dion Prestia             4          72"
      ]
     },
     "execution_count": 45,
     "metadata": {},
     "output_type": "execute_result"
    }
   ],
   "source": [
    "df.head()"
   ]
  },
  {
   "cell_type": "code",
   "execution_count": 46,
   "id": "f660019e",
   "metadata": {},
   "outputs": [
    {
     "name": "stdout",
     "output_type": "stream",
     "text": [
      "\"Round\": \"round\",\n",
      "\"Player\": \"player\",\n",
      "\"CoachesVotes\": \"coachesvotes\",\n",
      "\"Supercoach\": \"supercoach\",\n"
     ]
    }
   ],
   "source": [
    "for col in df.columns:\n",
    "    print(f'\"{col}\": \"{col.lower()}\",')"
   ]
  },
  {
   "cell_type": "code",
   "execution_count": 47,
   "id": "6a2ced18",
   "metadata": {},
   "outputs": [],
   "source": [
    "df = df.rename(columns={\n",
    "    \"Round\": \"round_number\",\n",
    "    \"Player\": \"player\",\n",
    "    \"CoachesVotes\": \"coaches_votes\",\n",
    "    \"Supercoach\": \"SC\"\n",
    "})"
   ]
  },
  {
   "cell_type": "code",
   "execution_count": 48,
   "id": "3f06ce74",
   "metadata": {},
   "outputs": [
    {
     "data": {
      "text/html": [
       "<div>\n",
       "<style scoped>\n",
       "    .dataframe tbody tr th:only-of-type {\n",
       "        vertical-align: middle;\n",
       "    }\n",
       "\n",
       "    .dataframe tbody tr th {\n",
       "        vertical-align: top;\n",
       "    }\n",
       "\n",
       "    .dataframe thead th {\n",
       "        text-align: right;\n",
       "    }\n",
       "</style>\n",
       "<table border=\"1\" class=\"dataframe\">\n",
       "  <thead>\n",
       "    <tr style=\"text-align: right;\">\n",
       "      <th></th>\n",
       "      <th>round_number</th>\n",
       "      <th>player</th>\n",
       "      <th>coaches_votes</th>\n",
       "      <th>SC</th>\n",
       "    </tr>\n",
       "  </thead>\n",
       "  <tbody>\n",
       "    <tr>\n",
       "      <th>0</th>\n",
       "      <td>1</td>\n",
       "      <td>Daniel Rioli</td>\n",
       "      <td>10</td>\n",
       "      <td>126</td>\n",
       "    </tr>\n",
       "    <tr>\n",
       "      <th>1</th>\n",
       "      <td>1</td>\n",
       "      <td>Tim Taranto</td>\n",
       "      <td>3</td>\n",
       "      <td>103</td>\n",
       "    </tr>\n",
       "    <tr>\n",
       "      <th>2</th>\n",
       "      <td>1</td>\n",
       "      <td>George Hewett</td>\n",
       "      <td>3</td>\n",
       "      <td>89</td>\n",
       "    </tr>\n",
       "    <tr>\n",
       "      <th>3</th>\n",
       "      <td>1</td>\n",
       "      <td>Toby Nankervis</td>\n",
       "      <td>4</td>\n",
       "      <td>112</td>\n",
       "    </tr>\n",
       "    <tr>\n",
       "      <th>4</th>\n",
       "      <td>1</td>\n",
       "      <td>Dion Prestia</td>\n",
       "      <td>4</td>\n",
       "      <td>72</td>\n",
       "    </tr>\n",
       "    <tr>\n",
       "      <th>...</th>\n",
       "      <td>...</td>\n",
       "      <td>...</td>\n",
       "      <td>...</td>\n",
       "      <td>...</td>\n",
       "    </tr>\n",
       "    <tr>\n",
       "      <th>9517</th>\n",
       "      <td>24</td>\n",
       "      <td>Ryan Maric</td>\n",
       "      <td>0</td>\n",
       "      <td>49</td>\n",
       "    </tr>\n",
       "    <tr>\n",
       "      <th>9518</th>\n",
       "      <td>24</td>\n",
       "      <td>Jack Petruccelle</td>\n",
       "      <td>0</td>\n",
       "      <td>36</td>\n",
       "    </tr>\n",
       "    <tr>\n",
       "      <th>9519</th>\n",
       "      <td>24</td>\n",
       "      <td>Jayden Hunt</td>\n",
       "      <td>0</td>\n",
       "      <td>55</td>\n",
       "    </tr>\n",
       "    <tr>\n",
       "      <th>9520</th>\n",
       "      <td>24</td>\n",
       "      <td>Jack Williams</td>\n",
       "      <td>0</td>\n",
       "      <td>33</td>\n",
       "    </tr>\n",
       "    <tr>\n",
       "      <th>9521</th>\n",
       "      <td>24</td>\n",
       "      <td>Luke Edwards</td>\n",
       "      <td>0</td>\n",
       "      <td>11</td>\n",
       "    </tr>\n",
       "  </tbody>\n",
       "</table>\n",
       "<p>9522 rows × 4 columns</p>\n",
       "</div>"
      ],
      "text/plain": [
       "      round_number            player  coaches_votes   SC\n",
       "0                1      Daniel Rioli             10  126\n",
       "1                1       Tim Taranto              3  103\n",
       "2                1     George Hewett              3   89\n",
       "3                1    Toby Nankervis              4  112\n",
       "4                1      Dion Prestia              4   72\n",
       "...            ...               ...            ...  ...\n",
       "9517            24        Ryan Maric              0   49\n",
       "9518            24  Jack Petruccelle              0   36\n",
       "9519            24       Jayden Hunt              0   55\n",
       "9520            24     Jack Williams              0   33\n",
       "9521            24      Luke Edwards              0   11\n",
       "\n",
       "[9522 rows x 4 columns]"
      ]
     },
     "execution_count": 48,
     "metadata": {},
     "output_type": "execute_result"
    }
   ],
   "source": [
    "df"
   ]
  },
  {
   "cell_type": "code",
   "execution_count": 49,
   "id": "493cf76b",
   "metadata": {},
   "outputs": [
    {
     "data": {
      "text/plain": [
       "round_number     0\n",
       "player           0\n",
       "coaches_votes    0\n",
       "SC               0\n",
       "dtype: int64"
      ]
     },
     "execution_count": 49,
     "metadata": {},
     "output_type": "execute_result"
    }
   ],
   "source": [
    "# all values filled\n",
    "df.isna().sum().sort_values(ascending=False)"
   ]
  },
  {
   "cell_type": "code",
   "execution_count": 50,
   "id": "8cf06be5",
   "metadata": {},
   "outputs": [],
   "source": [
    "# change name so can be merged in future notebook\n",
    "df.loc[df['player'].str.contains(\"Willie\"), 'player'] = \"Junior Rioli\""
   ]
  },
  {
   "cell_type": "code",
   "execution_count": 51,
   "id": "dbc75298",
   "metadata": {},
   "outputs": [],
   "source": [
    "players = pd.read_parquet('../../data/raw/player_information_23.parquet')"
   ]
  },
  {
   "cell_type": "code",
   "execution_count": 52,
   "id": "b77caf92",
   "metadata": {},
   "outputs": [],
   "source": [
    "players['player'] = players['player_first_name'] + ' ' + players['player_last_name']"
   ]
  },
  {
   "cell_type": "code",
   "execution_count": 53,
   "id": "9f45b9d0",
   "metadata": {},
   "outputs": [
    {
     "data": {
      "text/html": [
       "<div>\n",
       "<style scoped>\n",
       "    .dataframe tbody tr th:only-of-type {\n",
       "        vertical-align: middle;\n",
       "    }\n",
       "\n",
       "    .dataframe tbody tr th {\n",
       "        vertical-align: top;\n",
       "    }\n",
       "\n",
       "    .dataframe thead th {\n",
       "        text-align: right;\n",
       "    }\n",
       "</style>\n",
       "<table border=\"1\" class=\"dataframe\">\n",
       "  <thead>\n",
       "    <tr style=\"text-align: right;\">\n",
       "      <th></th>\n",
       "      <th>playerid</th>\n",
       "      <th>player_first_name</th>\n",
       "      <th>player_last_name</th>\n",
       "      <th>team_name</th>\n",
       "      <th>player</th>\n",
       "    </tr>\n",
       "  </thead>\n",
       "  <tbody>\n",
       "    <tr>\n",
       "      <th>14</th>\n",
       "      <td>CD_I1009551</td>\n",
       "      <td>Maurice</td>\n",
       "      <td>Rioli</td>\n",
       "      <td>Richmond</td>\n",
       "      <td>Maurice Rioli</td>\n",
       "    </tr>\n",
       "    <tr>\n",
       "      <th>18</th>\n",
       "      <td>CD_I1000981</td>\n",
       "      <td>Daniel</td>\n",
       "      <td>Rioli</td>\n",
       "      <td>Richmond</td>\n",
       "      <td>Daniel Rioli</td>\n",
       "    </tr>\n",
       "    <tr>\n",
       "      <th>153</th>\n",
       "      <td>CD_I296225</td>\n",
       "      <td>Junior</td>\n",
       "      <td>Rioli</td>\n",
       "      <td>Port Adelaide</td>\n",
       "      <td>Junior Rioli</td>\n",
       "    </tr>\n",
       "  </tbody>\n",
       "</table>\n",
       "</div>"
      ],
      "text/plain": [
       "        playerid player_first_name player_last_name      team_name  \\\n",
       "14   CD_I1009551           Maurice            Rioli       Richmond   \n",
       "18   CD_I1000981            Daniel            Rioli       Richmond   \n",
       "153   CD_I296225            Junior            Rioli  Port Adelaide   \n",
       "\n",
       "            player  \n",
       "14   Maurice Rioli  \n",
       "18    Daniel Rioli  \n",
       "153   Junior Rioli  "
      ]
     },
     "execution_count": 53,
     "metadata": {},
     "output_type": "execute_result"
    }
   ],
   "source": [
    "players.query('player.str.contains(\"Rioli\")')"
   ]
  },
  {
   "cell_type": "code",
   "execution_count": 54,
   "id": "b47b39d6",
   "metadata": {},
   "outputs": [],
   "source": [
    "df = pd.merge(df, players,\n",
    "         on='player',\n",
    "         how='left')"
   ]
  },
  {
   "cell_type": "code",
   "execution_count": 55,
   "id": "7be99843",
   "metadata": {},
   "outputs": [
    {
     "data": {
      "text/html": [
       "<div>\n",
       "<style scoped>\n",
       "    .dataframe tbody tr th:only-of-type {\n",
       "        vertical-align: middle;\n",
       "    }\n",
       "\n",
       "    .dataframe tbody tr th {\n",
       "        vertical-align: top;\n",
       "    }\n",
       "\n",
       "    .dataframe thead th {\n",
       "        text-align: right;\n",
       "    }\n",
       "</style>\n",
       "<table border=\"1\" class=\"dataframe\">\n",
       "  <thead>\n",
       "    <tr style=\"text-align: right;\">\n",
       "      <th></th>\n",
       "      <th>round_number</th>\n",
       "      <th>player</th>\n",
       "      <th>coaches_votes</th>\n",
       "      <th>SC</th>\n",
       "      <th>playerid</th>\n",
       "      <th>player_first_name</th>\n",
       "      <th>player_last_name</th>\n",
       "      <th>team_name</th>\n",
       "    </tr>\n",
       "  </thead>\n",
       "  <tbody>\n",
       "  </tbody>\n",
       "</table>\n",
       "</div>"
      ],
      "text/plain": [
       "Empty DataFrame\n",
       "Columns: [round_number, player, coaches_votes, SC, playerid, player_first_name, player_last_name, team_name]\n",
       "Index: []"
      ]
     },
     "execution_count": 55,
     "metadata": {},
     "output_type": "execute_result"
    }
   ],
   "source": [
    "# merge successfully\n",
    "df.loc[df.isna().any(axis=1)]"
   ]
  },
  {
   "cell_type": "code",
   "execution_count": 60,
   "id": "44bb15c6",
   "metadata": {},
   "outputs": [],
   "source": [
    "df = df[['round_number', 'player', 'playerid', 'team_name', 'coaches_votes', 'SC']]"
   ]
  },
  {
   "cell_type": "code",
   "execution_count": 61,
   "id": "a3cdda68",
   "metadata": {},
   "outputs": [],
   "source": [
    "df.to_parquet('../../data/raw/2023_coaches_SC.parquet')"
   ]
  },
  {
   "cell_type": "code",
   "execution_count": null,
   "id": "2c37a370",
   "metadata": {},
   "outputs": [],
   "source": []
  }
 ],
 "metadata": {
  "kernelspec": {
   "display_name": "Python 3 (ipykernel)",
   "language": "python",
   "name": "python3"
  },
  "language_info": {
   "codemirror_mode": {
    "name": "ipython",
    "version": 3
   },
   "file_extension": ".py",
   "mimetype": "text/x-python",
   "name": "python",
   "nbconvert_exporter": "python",
   "pygments_lexer": "ipython3",
   "version": "3.11.4"
  }
 },
 "nbformat": 4,
 "nbformat_minor": 5
}
