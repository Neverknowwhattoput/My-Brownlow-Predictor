{
 "cells": [
  {
   "cell_type": "code",
   "execution_count": 1,
   "metadata": {},
   "outputs": [],
   "source": [
    "import pandas as pd"
   ]
  },
  {
   "cell_type": "code",
   "execution_count": 16,
   "metadata": {},
   "outputs": [],
   "source": [
    "df = pd.read_parquet('../data/curated/clean_stats_13-22')"
   ]
  },
  {
   "cell_type": "markdown",
   "metadata": {},
   "source": [
    "# 2013"
   ]
  },
  {
   "cell_type": "code",
   "execution_count": 23,
   "metadata": {},
   "outputs": [],
   "source": [
    "df_2023 = df.query('season == 2013').drop_duplicates('match_id')[['match_id', 'match_home_team', 'match_away_team', 'match_round']]"
   ]
  },
  {
   "cell_type": "code",
   "execution_count": 24,
   "metadata": {},
   "outputs": [
    {
     "data": {
      "text/html": [
       "<div>\n",
       "<style scoped>\n",
       "    .dataframe tbody tr th:only-of-type {\n",
       "        vertical-align: middle;\n",
       "    }\n",
       "\n",
       "    .dataframe tbody tr th {\n",
       "        vertical-align: top;\n",
       "    }\n",
       "\n",
       "    .dataframe thead th {\n",
       "        text-align: right;\n",
       "    }\n",
       "</style>\n",
       "<table border=\"1\" class=\"dataframe\">\n",
       "  <thead>\n",
       "    <tr style=\"text-align: right;\">\n",
       "      <th></th>\n",
       "      <th>match_id</th>\n",
       "      <th>match_home_team</th>\n",
       "      <th>match_away_team</th>\n",
       "      <th>match_round</th>\n",
       "    </tr>\n",
       "  </thead>\n",
       "  <tbody>\n",
       "    <tr>\n",
       "      <th>8624</th>\n",
       "      <td>14167</td>\n",
       "      <td>Adelaide</td>\n",
       "      <td>Essendon</td>\n",
       "      <td>1</td>\n",
       "    </tr>\n",
       "    <tr>\n",
       "      <th>8668</th>\n",
       "      <td>14168</td>\n",
       "      <td>Fremantle</td>\n",
       "      <td>West Coast</td>\n",
       "      <td>1</td>\n",
       "    </tr>\n",
       "    <tr>\n",
       "      <th>8712</th>\n",
       "      <td>14169</td>\n",
       "      <td>Carlton</td>\n",
       "      <td>Richmond</td>\n",
       "      <td>1</td>\n",
       "    </tr>\n",
       "    <tr>\n",
       "      <th>8756</th>\n",
       "      <td>14170</td>\n",
       "      <td>Western Bulldogs</td>\n",
       "      <td>Brisbane Lions</td>\n",
       "      <td>1</td>\n",
       "    </tr>\n",
       "    <tr>\n",
       "      <th>8800</th>\n",
       "      <td>14171</td>\n",
       "      <td>Greater Western Sydney</td>\n",
       "      <td>Sydney</td>\n",
       "      <td>1</td>\n",
       "    </tr>\n",
       "    <tr>\n",
       "      <th>8844</th>\n",
       "      <td>14172</td>\n",
       "      <td>Gold Coast</td>\n",
       "      <td>St Kilda</td>\n",
       "      <td>1</td>\n",
       "    </tr>\n",
       "    <tr>\n",
       "      <th>8888</th>\n",
       "      <td>14173</td>\n",
       "      <td>Melbourne</td>\n",
       "      <td>Port Adelaide</td>\n",
       "      <td>1</td>\n",
       "    </tr>\n",
       "    <tr>\n",
       "      <th>8932</th>\n",
       "      <td>14174</td>\n",
       "      <td>North Melbourne</td>\n",
       "      <td>Collingwood</td>\n",
       "      <td>1</td>\n",
       "    </tr>\n",
       "    <tr>\n",
       "      <th>8976</th>\n",
       "      <td>14175</td>\n",
       "      <td>Hawthorn</td>\n",
       "      <td>Geelong</td>\n",
       "      <td>1</td>\n",
       "    </tr>\n",
       "  </tbody>\n",
       "</table>\n",
       "</div>"
      ],
      "text/plain": [
       "      match_id         match_home_team match_away_team  match_round\n",
       "8624     14167                Adelaide        Essendon            1\n",
       "8668     14168               Fremantle      West Coast            1\n",
       "8712     14169                 Carlton        Richmond            1\n",
       "8756     14170        Western Bulldogs  Brisbane Lions            1\n",
       "8800     14171  Greater Western Sydney          Sydney            1\n",
       "8844     14172              Gold Coast        St Kilda            1\n",
       "8888     14173               Melbourne   Port Adelaide            1\n",
       "8932     14174         North Melbourne     Collingwood            1\n",
       "8976     14175                Hawthorn         Geelong            1"
      ]
     },
     "execution_count": 24,
     "metadata": {},
     "output_type": "execute_result"
    }
   ],
   "source": [
    "df_2023.query('match_round == 1')"
   ]
  },
  {
   "cell_type": "code",
   "execution_count": null,
   "metadata": {},
   "outputs": [],
   "source": [
    "# match id 14167\n",
    "BEST - AFL.COM.AU\n",
    "Adelaide: Wright, Sloane, Douglas, Reilly, Vince\n",
    "Essendon: Watson, Howlett, Heppell, Dempsey, Myers, Hibberd, Kommer, Merrett, Carlisle\n",
    "\n",
    "BEST - THE AGE.COM.AU\n",
    "Adelaide: Jaensch, Jacobs, Reilly, Sloane, Wright, Douglas\n",
    "Essendon: Watson, Howlett, Fletcher, Heppell, Davey, Myers"
   ]
  },
  {
   "cell_type": "code",
   "execution_count": null,
   "metadata": {},
   "outputs": [],
   "source": [
    "# match id 14168\n",
    "\n",
    "BEST - WATODAY.COM.AU\n",
    "Fremantle: Barlow, Mundy, Suban, Crowley, Fyfe, S Hill\n",
    "West Coast: Priddis, Kennedy, Waters, Mackenzie, Selwood, LeCras.\n",
    "\n",
    "BEST - AFL.COM.AU\n",
    "Fremantle: Barlow, Mundy, D Pearce, Hill, Fyfe, Mayne, Griffin\n",
    "West Coast: Kennedy, A Selwood, Waters, Glass, Priddis"
   ]
  },
  {
   "cell_type": "code",
   "execution_count": null,
   "metadata": {},
   "outputs": [],
   "source": [
    "# 14169\n",
    "\n",
    "BEST - SPORTAL.COM.AU\n",
    "Carlton: Kreuzer, Gibbs, Jamison, Murphy, Judd\n",
    "Richmond: Cotchin, Vickery, Deledio, Tuck, Grigg, Jackson\n",
    "\n",
    "BEST - AFL.COM.AU\n",
    "Carlton: Judd, Kreuzer, Gibbs, Betts, Simpson, Armfield\n",
    "Richmond: Deledio, Cotchin, Vickery, Maric, Martin, Tuck"
   ]
  },
  {
   "cell_type": "code",
   "execution_count": null,
   "metadata": {},
   "outputs": [],
   "source": [
    "# 14170\n",
    "\n",
    "BEST - THE AGE\n",
    "Western Bulldogs: Goodes, Dickson, Lower, Minson, Johannisen, Higgins, Murphy, Roughead\n",
    "Brisbane: Rockliff, Moloney.\n",
    "\n",
    "BEST - AFL.COM.AU\n",
    "Western Bulldogs: Goodes, Griffen, Minson, Murphy, Liberatore, Higgins, Lower, Roughead, Stevens\n",
    "Brisbane: Rockliff, Moloney, Karnezis"
   ]
  },
  {
   "cell_type": "code",
   "execution_count": null,
   "metadata": {},
   "outputs": [],
   "source": [
    "# 14171\n",
    "\n",
    "BEST - THE SYDNEY MORNING HERALD\n",
    "GWS: Shiel, Treloar, Ward, Coniglio, Brogan, Patton\n",
    "Sydney: Jack, Kennedy, Hannebery, McVeigh, O'Keefe, Shaw\n",
    "\n",
    "BEST - AFL.COM.AU\n",
    "GWS: Shiel, Scully, Treloar, Coniglio, Ward Patton\n",
    "Sydney: Jack, Kennedy, McVeigh, Mumford, Bolton, Hannebery"
   ]
  },
  {
   "cell_type": "code",
   "execution_count": null,
   "metadata": {},
   "outputs": [],
   "source": [
    "# 14172\n",
    "\n",
    "BEST - BRISBANETIMES.COM.AU\n",
    "Gold Coast: Ablett, Dixon, Prestia, Harbrow, O'Meara, Thompson\n",
    "St Kilda: Geary, Armitage, Dal Santo, Hayes, Steven, Stanley\n",
    "\n",
    "BEST - AFL.COM.AU\n",
    "Gold Coast: Ablett, Broughton, Dixon, Hall, Harbrow, Thompson, Shaw\n",
    "St Kilda: Armitage, Geary, Milera, Steven, Riewoldt"
   ]
  },
  {
   "cell_type": "code",
   "execution_count": null,
   "metadata": {},
   "outputs": [],
   "source": [
    "# 14173\n",
    "\n",
    "BEST - SPORTAL.COM.AU\n",
    "Melbourne: Viney, M. Jones\n",
    "Port Adelaide: Hartlett, Monfries, Schulz, Ebert, Cornes, Westhoff\n",
    "\n",
    "BEST - AFL.COM.AU\n",
    "Melbourne: Viney, McKenzie, Grimes, M Jones\n",
    "Port Adelaide: Hartlett, Cornes, Schulz, Stewart, Ebert, Boak, Monfries, Pittard, Trengove, Wines "
   ]
  },
  {
   "cell_type": "code",
   "execution_count": null,
   "metadata": {},
   "outputs": [],
   "source": [
    "# 14174\n",
    "\n",
    "BEST - THE AGE\n",
    "North Melbourne: Swallow, Wells, Goldstein, Cunnington, Thomas, Mullett\n",
    "Collingwood: Pendlebury, Sidebottom, Brown, Cloke, Swan, O'Brien\n",
    "\n",
    "BEST - AFL.COM.AU\n",
    "North Melbourne: Swallow, Ziebell, Thomas, Atley, Wells, Cunnington\n",
    "Collingwood: Cloke, Maxwell, Pendlebury, Sidebottom, Swan, Toovey\n",
    "\n"
   ]
  },
  {
   "cell_type": "code",
   "execution_count": null,
   "metadata": {},
   "outputs": [],
   "source": [
    "# 14175\n",
    "\n",
    "BEST - AFL.COM.AU\n",
    "Hawthorn: Mitchell, Sewell, Birchall, Lewis, Schoenmakers, Puopolo, Rioli\n",
    "Geelong: Selwood, Chapman, Mackie, Taylor, Stokes, Lonergan, Enright, Smedts\n",
    "\n",
    "BEST - SPORTAL.COM.AU\n",
    "Hawthorn: Mitchell, Sewell, Birchall, Puopolo, Gibson, Schoenmakers\n",
    "Geelong: Selwood, Chapman, Lonergan, Duncan, Mackie, Taylor, Motlop"
   ]
  }
 ],
 "metadata": {
  "kernelspec": {
   "display_name": "afl",
   "language": "python",
   "name": "python3"
  },
  "language_info": {
   "codemirror_mode": {
    "name": "ipython",
    "version": 3
   },
   "file_extension": ".py",
   "mimetype": "text/x-python",
   "name": "python",
   "nbconvert_exporter": "python",
   "pygments_lexer": "ipython3",
   "version": "3.11.4"
  },
  "orig_nbformat": 4
 },
 "nbformat": 4,
 "nbformat_minor": 2
}
