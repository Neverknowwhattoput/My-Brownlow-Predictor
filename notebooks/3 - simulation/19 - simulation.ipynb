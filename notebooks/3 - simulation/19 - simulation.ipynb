{
 "cells": [
  {
   "cell_type": "code",
   "execution_count": 1,
   "id": "c48bc6ea",
   "metadata": {},
   "outputs": [],
   "source": [
    "import pandas as pd\n",
    "import numpy as np\n",
    "\n",
    "from tqdm import tqdm"
   ]
  },
  {
   "cell_type": "code",
   "execution_count": 128,
   "id": "c18d0111",
   "metadata": {},
   "outputs": [],
   "source": [
    "df = pd.read_parquet('../../data/curated/adjusted_probabilities_2022')\n",
    "season_df = pd.read_parquet('../../data/curated/clean_stats_13-22').query('season == 2022')"
   ]
  },
  {
   "cell_type": "code",
   "execution_count": 129,
   "id": "3070d6c7",
   "metadata": {
    "scrolled": true
   },
   "outputs": [
    {
     "data": {
      "text/html": [
       "<div>\n",
       "<style scoped>\n",
       "    .dataframe tbody tr th:only-of-type {\n",
       "        vertical-align: middle;\n",
       "    }\n",
       "\n",
       "    .dataframe tbody tr th {\n",
       "        vertical-align: top;\n",
       "    }\n",
       "\n",
       "    .dataframe thead th {\n",
       "        text-align: right;\n",
       "    }\n",
       "</style>\n",
       "<table border=\"1\" class=\"dataframe\">\n",
       "  <thead>\n",
       "    <tr style=\"text-align: right;\">\n",
       "      <th></th>\n",
       "      <th>player_id</th>\n",
       "      <th>match_id</th>\n",
       "      <th>player_first_name</th>\n",
       "      <th>player_last_name</th>\n",
       "      <th>player_team</th>\n",
       "      <th>new_0</th>\n",
       "      <th>new_1</th>\n",
       "      <th>new_2</th>\n",
       "      <th>new_3</th>\n",
       "      <th>exp_votes</th>\n",
       "    </tr>\n",
       "  </thead>\n",
       "  <tbody>\n",
       "    <tr>\n",
       "      <th>0</th>\n",
       "      <td>11904</td>\n",
       "      <td>16117</td>\n",
       "      <td>Tom</td>\n",
       "      <td>Liberatore</td>\n",
       "      <td>Western Bulldogs</td>\n",
       "      <td>0.996153</td>\n",
       "      <td>0.002482</td>\n",
       "      <td>0.001176</td>\n",
       "      <td>0.000190</td>\n",
       "      <td>0.005403</td>\n",
       "    </tr>\n",
       "    <tr>\n",
       "      <th>1</th>\n",
       "      <td>11945</td>\n",
       "      <td>16117</td>\n",
       "      <td>Steven</td>\n",
       "      <td>May</td>\n",
       "      <td>Melbourne</td>\n",
       "      <td>0.992642</td>\n",
       "      <td>0.005093</td>\n",
       "      <td>0.001960</td>\n",
       "      <td>0.000305</td>\n",
       "      <td>0.009927</td>\n",
       "    </tr>\n",
       "    <tr>\n",
       "      <th>2</th>\n",
       "      <td>11972</td>\n",
       "      <td>16117</td>\n",
       "      <td>Max</td>\n",
       "      <td>Gawn</td>\n",
       "      <td>Melbourne</td>\n",
       "      <td>0.934318</td>\n",
       "      <td>0.031216</td>\n",
       "      <td>0.029109</td>\n",
       "      <td>0.005358</td>\n",
       "      <td>0.105507</td>\n",
       "    </tr>\n",
       "    <tr>\n",
       "      <th>3</th>\n",
       "      <td>12015</td>\n",
       "      <td>16117</td>\n",
       "      <td>Tom</td>\n",
       "      <td>McDonald</td>\n",
       "      <td>Melbourne</td>\n",
       "      <td>0.992527</td>\n",
       "      <td>0.004218</td>\n",
       "      <td>0.002834</td>\n",
       "      <td>0.000421</td>\n",
       "      <td>0.011148</td>\n",
       "    </tr>\n",
       "    <tr>\n",
       "      <th>4</th>\n",
       "      <td>12034</td>\n",
       "      <td>16117</td>\n",
       "      <td>Adam</td>\n",
       "      <td>Tomlinson</td>\n",
       "      <td>Melbourne</td>\n",
       "      <td>0.995796</td>\n",
       "      <td>0.002834</td>\n",
       "      <td>0.001181</td>\n",
       "      <td>0.000189</td>\n",
       "      <td>0.005762</td>\n",
       "    </tr>\n",
       "  </tbody>\n",
       "</table>\n",
       "</div>"
      ],
      "text/plain": [
       "   player_id  match_id player_first_name player_last_name       player_team  \\\n",
       "0      11904     16117               Tom       Liberatore  Western Bulldogs   \n",
       "1      11945     16117            Steven              May         Melbourne   \n",
       "2      11972     16117               Max             Gawn         Melbourne   \n",
       "3      12015     16117               Tom         McDonald         Melbourne   \n",
       "4      12034     16117              Adam        Tomlinson         Melbourne   \n",
       "\n",
       "      new_0     new_1     new_2     new_3  exp_votes  \n",
       "0  0.996153  0.002482  0.001176  0.000190   0.005403  \n",
       "1  0.992642  0.005093  0.001960  0.000305   0.009927  \n",
       "2  0.934318  0.031216  0.029109  0.005358   0.105507  \n",
       "3  0.992527  0.004218  0.002834  0.000421   0.011148  \n",
       "4  0.995796  0.002834  0.001181  0.000189   0.005762  "
      ]
     },
     "execution_count": 129,
     "metadata": {},
     "output_type": "execute_result"
    }
   ],
   "source": [
    "df.head()"
   ]
  },
  {
   "cell_type": "code",
   "execution_count": 130,
   "id": "72c7e6f4",
   "metadata": {},
   "outputs": [],
   "source": [
    "players = list(df.player_id.unique())"
   ]
  },
  {
   "cell_type": "code",
   "execution_count": 131,
   "id": "4957f68d",
   "metadata": {},
   "outputs": [],
   "source": [
    "match_ids = list(df.match_id.unique())"
   ]
  },
  {
   "cell_type": "code",
   "execution_count": 132,
   "id": "f5189443",
   "metadata": {},
   "outputs": [
    {
     "name": "stderr",
     "output_type": "stream",
     "text": [
      "Simulations: 100%|██████████| 200/200 [00:20<00:00,  9.60it/s]\n"
     ]
    }
   ],
   "source": [
    "num_simulations = 200\n",
    "\n",
    "votes_3 = []\n",
    "votes_2 = []\n",
    "votes_1 = []\n",
    "\n",
    "# simulate 10,000 seasons \n",
    "for _ in tqdm(range(num_simulations), desc=\"Simulations\"):\n",
    "    \n",
    "    # simulate every game in the season, choose a 3-2-1 vote\n",
    "    for match in match_ids:\n",
    "        sub_df = df.query('match_id == @match')\n",
    "        match_players = sub_df.player_id.tolist()\n",
    "\n",
    "        match_prob_3 = sub_df.new_3.tolist()\n",
    "        match_prob_2 = sub_df.new_2.tolist()\n",
    "        match_prob_1 = sub_df.new_1.tolist()\n",
    "\n",
    "        vote_3 = np.random.choice(match_players, 1, p=match_prob_3)[0]\n",
    "        vote_2 = vote_3  # Initialize with a value that requires re-selection\n",
    "        \n",
    "        # ensure same player is not chosen as vote 3 and 2\n",
    "        while vote_2 == vote_3:\n",
    "            vote_2 = np.random.choice(match_players, 1, p=match_prob_2)[0]\n",
    "\n",
    "        vote_1 = vote_3  \n",
    "        while vote_1 == vote_3 or vote_1 == vote_2:\n",
    "            vote_1 = np.random.choice(match_players, 1, p=match_prob_1)[0]\n",
    "\n",
    "        votes_3.append(vote_3)\n",
    "        votes_2.append(vote_2)\n",
    "        votes_1.append(vote_1)\n"
   ]
  },
  {
   "cell_type": "code",
   "execution_count": 133,
   "id": "205fc767",
   "metadata": {},
   "outputs": [],
   "source": [
    "player_votes = {}"
   ]
  },
  {
   "cell_type": "code",
   "execution_count": 134,
   "id": "9fdf4d81",
   "metadata": {},
   "outputs": [
    {
     "name": "stderr",
     "output_type": "stream",
     "text": [
      "100%|██████████| 677/677 [00:00<00:00, 874.52it/s]\n"
     ]
    }
   ],
   "source": [
    "for player in tqdm(players):\n",
    "    \n",
    "    votes = 3*votes_3.count(player) + 2*votes_2.count(player) + 1*votes_2.count(player)\n",
    "    \n",
    "    player_votes[player] = votes / num_simulations"
   ]
  },
  {
   "cell_type": "code",
   "execution_count": 135,
   "id": "890fbaa9",
   "metadata": {},
   "outputs": [],
   "source": [
    "votes_df = pd.DataFrame(player_votes.items(), columns=['player_id', 'predicted_votes'])"
   ]
  },
  {
   "cell_type": "code",
   "execution_count": 136,
   "id": "2871865d",
   "metadata": {},
   "outputs": [
    {
     "data": {
      "text/html": [
       "<div>\n",
       "<style scoped>\n",
       "    .dataframe tbody tr th:only-of-type {\n",
       "        vertical-align: middle;\n",
       "    }\n",
       "\n",
       "    .dataframe tbody tr th {\n",
       "        vertical-align: top;\n",
       "    }\n",
       "\n",
       "    .dataframe thead th {\n",
       "        text-align: right;\n",
       "    }\n",
       "</style>\n",
       "<table border=\"1\" class=\"dataframe\">\n",
       "  <thead>\n",
       "    <tr style=\"text-align: right;\">\n",
       "      <th></th>\n",
       "      <th>player_id</th>\n",
       "      <th>predicted_votes</th>\n",
       "    </tr>\n",
       "  </thead>\n",
       "  <tbody>\n",
       "    <tr>\n",
       "      <th>21</th>\n",
       "      <td>12411</td>\n",
       "      <td>26.895</td>\n",
       "    </tr>\n",
       "    <tr>\n",
       "      <th>373</th>\n",
       "      <td>12329</td>\n",
       "      <td>24.855</td>\n",
       "    </tr>\n",
       "    <tr>\n",
       "      <th>25</th>\n",
       "      <td>12437</td>\n",
       "      <td>21.540</td>\n",
       "    </tr>\n",
       "    <tr>\n",
       "      <th>232</th>\n",
       "      <td>12061</td>\n",
       "      <td>20.850</td>\n",
       "    </tr>\n",
       "    <tr>\n",
       "      <th>56</th>\n",
       "      <td>12269</td>\n",
       "      <td>20.010</td>\n",
       "    </tr>\n",
       "    <tr>\n",
       "      <th>337</th>\n",
       "      <td>12596</td>\n",
       "      <td>18.420</td>\n",
       "    </tr>\n",
       "    <tr>\n",
       "      <th>195</th>\n",
       "      <td>12418</td>\n",
       "      <td>17.355</td>\n",
       "    </tr>\n",
       "    <tr>\n",
       "      <th>408</th>\n",
       "      <td>12685</td>\n",
       "      <td>17.070</td>\n",
       "    </tr>\n",
       "    <tr>\n",
       "      <th>144</th>\n",
       "      <td>12022</td>\n",
       "      <td>16.440</td>\n",
       "    </tr>\n",
       "    <tr>\n",
       "      <th>10</th>\n",
       "      <td>12277</td>\n",
       "      <td>16.155</td>\n",
       "    </tr>\n",
       "  </tbody>\n",
       "</table>\n",
       "</div>"
      ],
      "text/plain": [
       "     player_id  predicted_votes\n",
       "21       12411           26.895\n",
       "373      12329           24.855\n",
       "25       12437           21.540\n",
       "232      12061           20.850\n",
       "56       12269           20.010\n",
       "337      12596           18.420\n",
       "195      12418           17.355\n",
       "408      12685           17.070\n",
       "144      12022           16.440\n",
       "10       12277           16.155"
      ]
     },
     "execution_count": 136,
     "metadata": {},
     "output_type": "execute_result"
    }
   ],
   "source": [
    "votes_df.sort_values('predicted_votes', ascending=False)[:10]"
   ]
  },
  {
   "cell_type": "code",
   "execution_count": 137,
   "id": "f5a9509a",
   "metadata": {},
   "outputs": [],
   "source": [
    "player_info = df[['player_id', 'player_first_name', 'player_last_name', 'player_team']].drop_duplicates('player_id')"
   ]
  },
  {
   "cell_type": "code",
   "execution_count": 138,
   "id": "5f283978",
   "metadata": {},
   "outputs": [],
   "source": [
    "total_df = pd.merge(player_info, votes_df, on='player_id').sort_values('predicted_votes', ascending=False)"
   ]
  },
  {
   "cell_type": "code",
   "execution_count": 139,
   "id": "e0713961",
   "metadata": {},
   "outputs": [],
   "source": [
    "actual_votes = season_df.groupby(['player_first_name', 'player_last_name'])['brownlow_votes'].sum()"
   ]
  },
  {
   "cell_type": "code",
   "execution_count": 140,
   "id": "67c4df5c",
   "metadata": {},
   "outputs": [],
   "source": [
    "final_df = pd.merge(total_df, actual_votes, on=['player_first_name', 'player_last_name'])"
   ]
  },
  {
   "cell_type": "code",
   "execution_count": 141,
   "id": "9d5af7f6",
   "metadata": {},
   "outputs": [],
   "source": [
    "def get_name(row):\n",
    "    \n",
    "    return f\"{row['player_first_name'][0]}. {row['player_last_name']}\""
   ]
  },
  {
   "cell_type": "code",
   "execution_count": 142,
   "id": "83dee1f7",
   "metadata": {},
   "outputs": [],
   "source": [
    "final_df['player'] = final_df.apply(get_name, axis=1)"
   ]
  },
  {
   "cell_type": "code",
   "execution_count": 143,
   "id": "c66998a0",
   "metadata": {},
   "outputs": [],
   "source": [
    "final_df['error'] = final_df['predicted_votes'] - final_df['brownlow_votes']"
   ]
  },
  {
   "cell_type": "code",
   "execution_count": 144,
   "id": "7f465014",
   "metadata": {},
   "outputs": [],
   "source": [
    "cols = [\n",
    "    'player', 'player_team', 'predicted_votes', 'brownlow_votes', 'error'\n",
    "]\n",
    "final_df = final_df[cols]"
   ]
  },
  {
   "cell_type": "code",
   "execution_count": 145,
   "id": "90624cbd",
   "metadata": {},
   "outputs": [
    {
     "data": {
      "text/html": [
       "<div>\n",
       "<style scoped>\n",
       "    .dataframe tbody tr th:only-of-type {\n",
       "        vertical-align: middle;\n",
       "    }\n",
       "\n",
       "    .dataframe tbody tr th {\n",
       "        vertical-align: top;\n",
       "    }\n",
       "\n",
       "    .dataframe thead th {\n",
       "        text-align: right;\n",
       "    }\n",
       "</style>\n",
       "<table border=\"1\" class=\"dataframe\">\n",
       "  <thead>\n",
       "    <tr style=\"text-align: right;\">\n",
       "      <th></th>\n",
       "      <th>player</th>\n",
       "      <th>player_team</th>\n",
       "      <th>predicted_votes</th>\n",
       "      <th>brownlow_votes</th>\n",
       "      <th>error</th>\n",
       "    </tr>\n",
       "  </thead>\n",
       "  <tbody>\n",
       "    <tr>\n",
       "      <th>0</th>\n",
       "      <td>C. Oliver</td>\n",
       "      <td>Melbourne</td>\n",
       "      <td>26.895</td>\n",
       "      <td>25.0</td>\n",
       "      <td>1.895</td>\n",
       "    </tr>\n",
       "    <tr>\n",
       "      <th>1</th>\n",
       "      <td>T. Miller</td>\n",
       "      <td>Gold Coast</td>\n",
       "      <td>24.855</td>\n",
       "      <td>27.0</td>\n",
       "      <td>-2.145</td>\n",
       "    </tr>\n",
       "    <tr>\n",
       "      <th>2</th>\n",
       "      <td>C. Petracca</td>\n",
       "      <td>Melbourne</td>\n",
       "      <td>21.540</td>\n",
       "      <td>24.0</td>\n",
       "      <td>-2.460</td>\n",
       "    </tr>\n",
       "    <tr>\n",
       "      <th>3</th>\n",
       "      <td>L. Neale</td>\n",
       "      <td>Brisbane Lions</td>\n",
       "      <td>20.850</td>\n",
       "      <td>28.0</td>\n",
       "      <td>-7.150</td>\n",
       "    </tr>\n",
       "    <tr>\n",
       "      <th>4</th>\n",
       "      <td>P. Cripps</td>\n",
       "      <td>Carlton</td>\n",
       "      <td>20.010</td>\n",
       "      <td>29.0</td>\n",
       "      <td>-8.990</td>\n",
       "    </tr>\n",
       "    <tr>\n",
       "      <th>5</th>\n",
       "      <td>A. Brayshaw</td>\n",
       "      <td>Fremantle</td>\n",
       "      <td>18.420</td>\n",
       "      <td>25.0</td>\n",
       "      <td>-6.580</td>\n",
       "    </tr>\n",
       "    <tr>\n",
       "      <th>6</th>\n",
       "      <td>C. Mills</td>\n",
       "      <td>Sydney</td>\n",
       "      <td>17.355</td>\n",
       "      <td>21.0</td>\n",
       "      <td>-3.645</td>\n",
       "    </tr>\n",
       "    <tr>\n",
       "      <th>7</th>\n",
       "      <td>S. Walsh</td>\n",
       "      <td>Carlton</td>\n",
       "      <td>17.070</td>\n",
       "      <td>14.0</td>\n",
       "      <td>3.070</td>\n",
       "    </tr>\n",
       "    <tr>\n",
       "      <th>8</th>\n",
       "      <td>J. Cameron</td>\n",
       "      <td>Geelong</td>\n",
       "      <td>16.440</td>\n",
       "      <td>19.0</td>\n",
       "      <td>-2.560</td>\n",
       "    </tr>\n",
       "    <tr>\n",
       "      <th>9</th>\n",
       "      <td>M. Bontempelli</td>\n",
       "      <td>Western Bulldogs</td>\n",
       "      <td>16.155</td>\n",
       "      <td>10.0</td>\n",
       "      <td>6.155</td>\n",
       "    </tr>\n",
       "  </tbody>\n",
       "</table>\n",
       "</div>"
      ],
      "text/plain": [
       "           player       player_team  predicted_votes  brownlow_votes  error\n",
       "0       C. Oliver         Melbourne           26.895            25.0  1.895\n",
       "1       T. Miller        Gold Coast           24.855            27.0 -2.145\n",
       "2     C. Petracca         Melbourne           21.540            24.0 -2.460\n",
       "3        L. Neale    Brisbane Lions           20.850            28.0 -7.150\n",
       "4       P. Cripps           Carlton           20.010            29.0 -8.990\n",
       "5     A. Brayshaw         Fremantle           18.420            25.0 -6.580\n",
       "6        C. Mills            Sydney           17.355            21.0 -3.645\n",
       "7        S. Walsh           Carlton           17.070            14.0  3.070\n",
       "8      J. Cameron           Geelong           16.440            19.0 -2.560\n",
       "9  M. Bontempelli  Western Bulldogs           16.155            10.0  6.155"
      ]
     },
     "execution_count": 145,
     "metadata": {},
     "output_type": "execute_result"
    }
   ],
   "source": [
    "final_df[:10]"
   ]
  },
  {
   "cell_type": "code",
   "execution_count": null,
   "id": "a88a01f4",
   "metadata": {},
   "outputs": [],
   "source": []
  },
  {
   "cell_type": "code",
   "execution_count": null,
   "id": "b5529721",
   "metadata": {},
   "outputs": [],
   "source": []
  },
  {
   "cell_type": "code",
   "execution_count": null,
   "id": "3be7f3f3",
   "metadata": {},
   "outputs": [],
   "source": []
  }
 ],
 "metadata": {
  "kernelspec": {
   "display_name": "Python 3 (ipykernel)",
   "language": "python",
   "name": "python3"
  },
  "language_info": {
   "codemirror_mode": {
    "name": "ipython",
    "version": 3
   },
   "file_extension": ".py",
   "mimetype": "text/x-python",
   "name": "python",
   "nbconvert_exporter": "python",
   "pygments_lexer": "ipython3",
   "version": "3.11.4"
  }
 },
 "nbformat": 4,
 "nbformat_minor": 5
}
