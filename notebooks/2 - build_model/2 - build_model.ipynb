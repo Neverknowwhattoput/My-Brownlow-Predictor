{
 "cells": [
  {
   "cell_type": "code",
   "execution_count": 1,
   "id": "9d1c227b",
   "metadata": {},
   "outputs": [],
   "source": [
    "import pandas as pd\n",
    "import numpy as np \n",
    "from sklearn.linear_model import LogisticRegression\n",
    "from sklearn.metrics import classification_report"
   ]
  },
  {
   "cell_type": "code",
   "execution_count": 2,
   "id": "72b49ecd",
   "metadata": {},
   "outputs": [],
   "source": [
    "df = pd.read_parquet('../../data/curated/clean_stats_13-22.parquet')"
   ]
  },
  {
   "cell_type": "code",
   "execution_count": 3,
   "id": "173ccdf2",
   "metadata": {},
   "outputs": [],
   "source": [
    "df.set_index('player_id', inplace=True)"
   ]
  },
  {
   "cell_type": "code",
   "execution_count": 4,
   "id": "d6ce0f0e",
   "metadata": {},
   "outputs": [],
   "source": [
    "features = []\n",
    "with open('final_features.txt', 'r') as f:\n",
    "    for line in f.readlines():\n",
    "        features.append(line.strip())\n",
    "\n",
    "target = 'brownlow_votes'"
   ]
  },
  {
   "cell_type": "code",
   "execution_count": 5,
   "id": "b4965f15",
   "metadata": {},
   "outputs": [
    {
     "data": {
      "text/plain": [
       "['winning_margin',\n",
       " 'coaches_votes',\n",
       " 'contested_possessions_proportion',\n",
       " 'goals_proportion',\n",
       " 'average_votes_prev',\n",
       " 'marks_inside_fifty_proportion',\n",
       " 'metres_gained_proportion',\n",
       " '30_and_2',\n",
       " 'handballs_proportion',\n",
       " 'intercept_marks_proportion',\n",
       " 'is_captain',\n",
       " 'high_goal_scorer',\n",
       " 'spoils_proportion',\n",
       " 'centre_clearances_proportion',\n",
       " 'uncontested_possessions_proportion',\n",
       " 'hitouts_to_advantage_proportion',\n",
       " 'kicks_proportion',\n",
       " 'player_position_rover',\n",
       " 'player_position_key_defender',\n",
       " 'player_position_key_forward',\n",
       " 'player_position_forward',\n",
       " 'player_position_ruck',\n",
       " 'player_position_wing',\n",
       " 'free_kicks_for']"
      ]
     },
     "execution_count": 5,
     "metadata": {},
     "output_type": "execute_result"
    }
   ],
   "source": [
    "features"
   ]
  },
  {
   "cell_type": "code",
   "execution_count": 7,
   "id": "021f4ad6",
   "metadata": {},
   "outputs": [],
   "source": [
    "X_train, y_train = df.query('season < 2022')[features], df.query('season < 2022')[target]\n",
    "X_test, y_test = df.query('season == 2022')[features], df.query('season == 2022')[target]"
   ]
  },
  {
   "cell_type": "code",
   "execution_count": 8,
   "id": "a81cec8d",
   "metadata": {},
   "outputs": [
    {
     "data": {
      "text/plain": [
       "0.9334975369458128"
      ]
     },
     "execution_count": 8,
     "metadata": {},
     "output_type": "execute_result"
    }
   ],
   "source": [
    "# if assigned every performance a 0, would maintain an accuracy of 0.935 (benchmark)\n",
    "list(y_test).count(0) / y_test.count()"
   ]
  },
  {
   "cell_type": "code",
   "execution_count": 9,
   "id": "30e3959d",
   "metadata": {},
   "outputs": [],
   "source": [
    "LR = LogisticRegression(max_iter=10_000, multi_class='multinomial', solver='saga', penalty='l1')"
   ]
  },
  {
   "cell_type": "code",
   "execution_count": 10,
   "id": "831a4d18",
   "metadata": {},
   "outputs": [
    {
     "data": {
      "text/html": [
       "<style>#sk-container-id-1 {color: black;background-color: white;}#sk-container-id-1 pre{padding: 0;}#sk-container-id-1 div.sk-toggleable {background-color: white;}#sk-container-id-1 label.sk-toggleable__label {cursor: pointer;display: block;width: 100%;margin-bottom: 0;padding: 0.3em;box-sizing: border-box;text-align: center;}#sk-container-id-1 label.sk-toggleable__label-arrow:before {content: \"▸\";float: left;margin-right: 0.25em;color: #696969;}#sk-container-id-1 label.sk-toggleable__label-arrow:hover:before {color: black;}#sk-container-id-1 div.sk-estimator:hover label.sk-toggleable__label-arrow:before {color: black;}#sk-container-id-1 div.sk-toggleable__content {max-height: 0;max-width: 0;overflow: hidden;text-align: left;background-color: #f0f8ff;}#sk-container-id-1 div.sk-toggleable__content pre {margin: 0.2em;color: black;border-radius: 0.25em;background-color: #f0f8ff;}#sk-container-id-1 input.sk-toggleable__control:checked~div.sk-toggleable__content {max-height: 200px;max-width: 100%;overflow: auto;}#sk-container-id-1 input.sk-toggleable__control:checked~label.sk-toggleable__label-arrow:before {content: \"▾\";}#sk-container-id-1 div.sk-estimator input.sk-toggleable__control:checked~label.sk-toggleable__label {background-color: #d4ebff;}#sk-container-id-1 div.sk-label input.sk-toggleable__control:checked~label.sk-toggleable__label {background-color: #d4ebff;}#sk-container-id-1 input.sk-hidden--visually {border: 0;clip: rect(1px 1px 1px 1px);clip: rect(1px, 1px, 1px, 1px);height: 1px;margin: -1px;overflow: hidden;padding: 0;position: absolute;width: 1px;}#sk-container-id-1 div.sk-estimator {font-family: monospace;background-color: #f0f8ff;border: 1px dotted black;border-radius: 0.25em;box-sizing: border-box;margin-bottom: 0.5em;}#sk-container-id-1 div.sk-estimator:hover {background-color: #d4ebff;}#sk-container-id-1 div.sk-parallel-item::after {content: \"\";width: 100%;border-bottom: 1px solid gray;flex-grow: 1;}#sk-container-id-1 div.sk-label:hover label.sk-toggleable__label {background-color: #d4ebff;}#sk-container-id-1 div.sk-serial::before {content: \"\";position: absolute;border-left: 1px solid gray;box-sizing: border-box;top: 0;bottom: 0;left: 50%;z-index: 0;}#sk-container-id-1 div.sk-serial {display: flex;flex-direction: column;align-items: center;background-color: white;padding-right: 0.2em;padding-left: 0.2em;position: relative;}#sk-container-id-1 div.sk-item {position: relative;z-index: 1;}#sk-container-id-1 div.sk-parallel {display: flex;align-items: stretch;justify-content: center;background-color: white;position: relative;}#sk-container-id-1 div.sk-item::before, #sk-container-id-1 div.sk-parallel-item::before {content: \"\";position: absolute;border-left: 1px solid gray;box-sizing: border-box;top: 0;bottom: 0;left: 50%;z-index: -1;}#sk-container-id-1 div.sk-parallel-item {display: flex;flex-direction: column;z-index: 1;position: relative;background-color: white;}#sk-container-id-1 div.sk-parallel-item:first-child::after {align-self: flex-end;width: 50%;}#sk-container-id-1 div.sk-parallel-item:last-child::after {align-self: flex-start;width: 50%;}#sk-container-id-1 div.sk-parallel-item:only-child::after {width: 0;}#sk-container-id-1 div.sk-dashed-wrapped {border: 1px dashed gray;margin: 0 0.4em 0.5em 0.4em;box-sizing: border-box;padding-bottom: 0.4em;background-color: white;}#sk-container-id-1 div.sk-label label {font-family: monospace;font-weight: bold;display: inline-block;line-height: 1.2em;}#sk-container-id-1 div.sk-label-container {text-align: center;}#sk-container-id-1 div.sk-container {/* jupyter's `normalize.less` sets `[hidden] { display: none; }` but bootstrap.min.css set `[hidden] { display: none !important; }` so we also need the `!important` here to be able to override the default hidden behavior on the sphinx rendered scikit-learn.org. See: https://github.com/scikit-learn/scikit-learn/issues/21755 */display: inline-block !important;position: relative;}#sk-container-id-1 div.sk-text-repr-fallback {display: none;}</style><div id=\"sk-container-id-1\" class=\"sk-top-container\"><div class=\"sk-text-repr-fallback\"><pre>LogisticRegression(max_iter=10000, multi_class=&#x27;multinomial&#x27;, penalty=&#x27;l1&#x27;,\n",
       "                   solver=&#x27;saga&#x27;)</pre><b>In a Jupyter environment, please rerun this cell to show the HTML representation or trust the notebook. <br />On GitHub, the HTML representation is unable to render, please try loading this page with nbviewer.org.</b></div><div class=\"sk-container\" hidden><div class=\"sk-item\"><div class=\"sk-estimator sk-toggleable\"><input class=\"sk-toggleable__control sk-hidden--visually\" id=\"sk-estimator-id-1\" type=\"checkbox\" checked><label for=\"sk-estimator-id-1\" class=\"sk-toggleable__label sk-toggleable__label-arrow\">LogisticRegression</label><div class=\"sk-toggleable__content\"><pre>LogisticRegression(max_iter=10000, multi_class=&#x27;multinomial&#x27;, penalty=&#x27;l1&#x27;,\n",
       "                   solver=&#x27;saga&#x27;)</pre></div></div></div></div></div>"
      ],
      "text/plain": [
       "LogisticRegression(max_iter=10000, multi_class='multinomial', penalty='l1',\n",
       "                   solver='saga')"
      ]
     },
     "execution_count": 10,
     "metadata": {},
     "output_type": "execute_result"
    }
   ],
   "source": [
    "LR.fit(X_train, y_train)"
   ]
  },
  {
   "cell_type": "code",
   "execution_count": 11,
   "id": "ae6f374a",
   "metadata": {},
   "outputs": [],
   "source": [
    "predictions = LR.predict(X_test)"
   ]
  },
  {
   "cell_type": "code",
   "execution_count": 12,
   "id": "d5f536cc",
   "metadata": {},
   "outputs": [
    {
     "name": "stdout",
     "output_type": "stream",
     "text": [
      "              precision    recall  f1-score   support\n",
      "\n",
      "         0.0       0.96      0.99      0.98      8338\n",
      "         1.0       0.25      0.01      0.01       198\n",
      "         2.0       0.41      0.06      0.10       198\n",
      "         3.0       0.49      0.66      0.56       198\n",
      "\n",
      "    accuracy                           0.94      8932\n",
      "   macro avg       0.53      0.43      0.41      8932\n",
      "weighted avg       0.92      0.94      0.93      8932\n",
      "\n"
     ]
    }
   ],
   "source": [
    "print(classification_report(y_pred=predictions, y_true=y_test))"
   ]
  },
  {
   "cell_type": "code",
   "execution_count": 13,
   "id": "03d7e924",
   "metadata": {},
   "outputs": [
    {
     "name": "stdout",
     "output_type": "stream",
     "text": [
      "                     winning_margin: [-0.008, -0.001, 0.0, 0.002]\n",
      "                      coaches_votes: [-0.394, -0.036, 0.082, 0.276]\n",
      "   contested_possessions_proportion: [-6.032, 2.094, 1.325, 1.173]\n",
      "                   goals_proportion: [-7.253, 2.246, 2.189, 1.363]\n",
      "                 average_votes_prev: [-0.94, -0.13, 0.391, 0.634]\n",
      "      marks_inside_fifty_proportion: [-3.293, 0.0, 0.0, 2.247]\n",
      "           metres_gained_proportion: [-8.003, 3.0, 2.08, 1.49]\n",
      "                           30_and_2: [-0.868, -0.2, 0.307, 0.761]\n",
      "               handballs_proportion: [-8.114, 2.496, 2.335, 1.846]\n",
      "         intercept_marks_proportion: [-3.153, 1.823, 0.783, 0.0]\n",
      "                         is_captain: [-0.124, -0.031, 0.104, 0.042]\n",
      "                   high_goal_scorer: [-1.364, -0.002, 0.078, 0.404]\n",
      "                  spoils_proportion: [0.695, 0.0, -0.181, 0.0]\n",
      "       centre_clearances_proportion: [-2.218, 0.634, -0.061, 1.411]\n",
      " uncontested_possessions_proportion: [-9.319, 3.104, 2.798, 1.984]\n",
      "    hitouts_to_advantage_proportion: [-0.948, 0.0, 0.581, 0.065]\n",
      "                   kicks_proportion: [-8.498, 3.145, 2.231, 1.688]\n",
      "              player_position_rover: [-0.662, 0.0, -0.008, 0.107]\n",
      "       player_position_key_defender: [-0.033, 0.169, 0.003, -0.177]\n",
      "        player_position_key_forward: [0.074, 0.0, 0.098, -0.248]\n",
      "            player_position_forward: [-0.017, 0.122, 0.012, -0.115]\n",
      "               player_position_ruck: [-0.289, 0.075, -0.019, 0.028]\n",
      "               player_position_wing: [-0.415, -0.011, 0.018, 0.0]\n",
      "                     free_kicks_for: [-0.125, -0.013, 0.013, 0.018]\n"
     ]
    }
   ],
   "source": [
    "for i, col in enumerate(np.transpose(LR.coef_)):\n",
    "    rounded_col = [round(e, 3) for e in col]\n",
    "    print(f'{features[i]:>35}: {rounded_col}')"
   ]
  },
  {
   "cell_type": "code",
   "execution_count": 15,
   "id": "365a3211",
   "metadata": {},
   "outputs": [
    {
     "name": "stderr",
     "output_type": "stream",
     "text": [
      "/var/folders/_d/tnkg6yhj7xj4rxgh61bmdwtr0000gn/T/ipykernel_63747/4080210020.py:2: SettingWithCopyWarning: \n",
      "A value is trying to be set on a copy of a slice from a DataFrame.\n",
      "Try using .loc[row_indexer,col_indexer] = value instead\n",
      "\n",
      "See the caveats in the documentation: https://pandas.pydata.org/pandas-docs/stable/user_guide/indexing.html#returning-a-view-versus-a-copy\n",
      "  df_2022['predicted_votes'] = predictions\n"
     ]
    }
   ],
   "source": [
    "df_2022 = df.query('season == 2022')\n",
    "df_2022['predicted_votes'] = predictions"
   ]
  },
  {
   "cell_type": "code",
   "execution_count": 16,
   "id": "7c9fd0de",
   "metadata": {},
   "outputs": [
    {
     "data": {
      "text/plain": [
       "player_first_name  player_last_name\n",
       "Touk               Miller              30.0\n",
       "Clayton            Oliver              29.0\n",
       "Lachie             Neale               27.0\n",
       "Christian          Petracca            26.0\n",
       "Jeremy             Cameron             22.0\n",
       "Andrew             Brayshaw            21.0\n",
       "Patrick            Cripps              20.0\n",
       "Connor             Rozee               18.0\n",
       "Darcy              Parish              15.0\n",
       "Callum             Mills               15.0\n",
       "Name: predicted_votes, dtype: float64"
      ]
     },
     "execution_count": 16,
     "metadata": {},
     "output_type": "execute_result"
    }
   ],
   "source": [
    "df_2022.groupby(['player_first_name', 'player_last_name'])['predicted_votes'].sum().sort_values(ascending=False)[:10]"
   ]
  },
  {
   "cell_type": "code",
   "execution_count": 17,
   "id": "ea9dfc3a",
   "metadata": {},
   "outputs": [],
   "source": [
    "cols = [\n",
    "    'match_id', 'match_round', 'player_first_name', 'player_last_name', 'player_team',\n",
    "]\n",
    "df_2022 = df_2022[cols]"
   ]
  },
  {
   "cell_type": "code",
   "execution_count": 18,
   "id": "eabfb581",
   "metadata": {},
   "outputs": [
    {
     "data": {
      "text/html": [
       "<div>\n",
       "<style scoped>\n",
       "    .dataframe tbody tr th:only-of-type {\n",
       "        vertical-align: middle;\n",
       "    }\n",
       "\n",
       "    .dataframe tbody tr th {\n",
       "        vertical-align: top;\n",
       "    }\n",
       "\n",
       "    .dataframe thead th {\n",
       "        text-align: right;\n",
       "    }\n",
       "</style>\n",
       "<table border=\"1\" class=\"dataframe\">\n",
       "  <thead>\n",
       "    <tr style=\"text-align: right;\">\n",
       "      <th></th>\n",
       "      <th>match_id</th>\n",
       "      <th>match_round</th>\n",
       "      <th>player_first_name</th>\n",
       "      <th>player_last_name</th>\n",
       "      <th>player_team</th>\n",
       "    </tr>\n",
       "    <tr>\n",
       "      <th>player_id</th>\n",
       "      <th></th>\n",
       "      <th></th>\n",
       "      <th></th>\n",
       "      <th></th>\n",
       "      <th></th>\n",
       "    </tr>\n",
       "  </thead>\n",
       "  <tbody>\n",
       "    <tr>\n",
       "      <th>11904</th>\n",
       "      <td>16117</td>\n",
       "      <td>1</td>\n",
       "      <td>Tom</td>\n",
       "      <td>Liberatore</td>\n",
       "      <td>Western Bulldogs</td>\n",
       "    </tr>\n",
       "    <tr>\n",
       "      <th>11945</th>\n",
       "      <td>16117</td>\n",
       "      <td>1</td>\n",
       "      <td>Steven</td>\n",
       "      <td>May</td>\n",
       "      <td>Melbourne</td>\n",
       "    </tr>\n",
       "    <tr>\n",
       "      <th>11972</th>\n",
       "      <td>16117</td>\n",
       "      <td>1</td>\n",
       "      <td>Max</td>\n",
       "      <td>Gawn</td>\n",
       "      <td>Melbourne</td>\n",
       "    </tr>\n",
       "    <tr>\n",
       "      <th>12015</th>\n",
       "      <td>16117</td>\n",
       "      <td>1</td>\n",
       "      <td>Tom</td>\n",
       "      <td>McDonald</td>\n",
       "      <td>Melbourne</td>\n",
       "    </tr>\n",
       "    <tr>\n",
       "      <th>12034</th>\n",
       "      <td>16117</td>\n",
       "      <td>1</td>\n",
       "      <td>Adam</td>\n",
       "      <td>Tomlinson</td>\n",
       "      <td>Melbourne</td>\n",
       "    </tr>\n",
       "  </tbody>\n",
       "</table>\n",
       "</div>"
      ],
      "text/plain": [
       "           match_id  match_round player_first_name player_last_name  \\\n",
       "player_id                                                             \n",
       "11904         16117            1               Tom       Liberatore   \n",
       "11945         16117            1            Steven              May   \n",
       "11972         16117            1               Max             Gawn   \n",
       "12015         16117            1               Tom         McDonald   \n",
       "12034         16117            1              Adam        Tomlinson   \n",
       "\n",
       "                player_team  \n",
       "player_id                    \n",
       "11904      Western Bulldogs  \n",
       "11945             Melbourne  \n",
       "11972             Melbourne  \n",
       "12015             Melbourne  \n",
       "12034             Melbourne  "
      ]
     },
     "execution_count": 18,
     "metadata": {},
     "output_type": "execute_result"
    }
   ],
   "source": [
    "df_2022.head()"
   ]
  },
  {
   "cell_type": "code",
   "execution_count": 19,
   "id": "bb74ce22",
   "metadata": {},
   "outputs": [],
   "source": [
    "prob_2022 = pd.DataFrame(LR.predict_proba(X_test))"
   ]
  },
  {
   "cell_type": "code",
   "execution_count": 20,
   "id": "c9a9425a",
   "metadata": {},
   "outputs": [],
   "source": [
    "prob_2022['player_id'] = y_test.index"
   ]
  },
  {
   "cell_type": "code",
   "execution_count": 21,
   "id": "0907b70a",
   "metadata": {},
   "outputs": [],
   "source": [
    "prob_2022.set_index('player_id', inplace=True)\n",
    "prob_2022['predictions'] = predictions"
   ]
  },
  {
   "cell_type": "code",
   "execution_count": 22,
   "id": "7dee9478",
   "metadata": {},
   "outputs": [
    {
     "data": {
      "text/html": [
       "<div>\n",
       "<style scoped>\n",
       "    .dataframe tbody tr th:only-of-type {\n",
       "        vertical-align: middle;\n",
       "    }\n",
       "\n",
       "    .dataframe tbody tr th {\n",
       "        vertical-align: top;\n",
       "    }\n",
       "\n",
       "    .dataframe thead th {\n",
       "        text-align: right;\n",
       "    }\n",
       "</style>\n",
       "<table border=\"1\" class=\"dataframe\">\n",
       "  <thead>\n",
       "    <tr style=\"text-align: right;\">\n",
       "      <th></th>\n",
       "      <th>0</th>\n",
       "      <th>1</th>\n",
       "      <th>2</th>\n",
       "      <th>3</th>\n",
       "      <th>predictions</th>\n",
       "    </tr>\n",
       "    <tr>\n",
       "      <th>player_id</th>\n",
       "      <th></th>\n",
       "      <th></th>\n",
       "      <th></th>\n",
       "      <th></th>\n",
       "      <th></th>\n",
       "    </tr>\n",
       "  </thead>\n",
       "  <tbody>\n",
       "    <tr>\n",
       "      <th>11904</th>\n",
       "      <td>0.995934</td>\n",
       "      <td>0.002583</td>\n",
       "      <td>0.001251</td>\n",
       "      <td>0.000232</td>\n",
       "      <td>0.0</td>\n",
       "    </tr>\n",
       "    <tr>\n",
       "      <th>11945</th>\n",
       "      <td>0.992242</td>\n",
       "      <td>0.005301</td>\n",
       "      <td>0.002085</td>\n",
       "      <td>0.000373</td>\n",
       "      <td>0.0</td>\n",
       "    </tr>\n",
       "    <tr>\n",
       "      <th>11972</th>\n",
       "      <td>0.929986</td>\n",
       "      <td>0.032486</td>\n",
       "      <td>0.030978</td>\n",
       "      <td>0.006549</td>\n",
       "      <td>0.0</td>\n",
       "    </tr>\n",
       "    <tr>\n",
       "      <th>12015</th>\n",
       "      <td>0.992080</td>\n",
       "      <td>0.004390</td>\n",
       "      <td>0.003016</td>\n",
       "      <td>0.000514</td>\n",
       "      <td>0.0</td>\n",
       "    </tr>\n",
       "    <tr>\n",
       "      <th>12034</th>\n",
       "      <td>0.995563</td>\n",
       "      <td>0.002950</td>\n",
       "      <td>0.001256</td>\n",
       "      <td>0.000231</td>\n",
       "      <td>0.0</td>\n",
       "    </tr>\n",
       "  </tbody>\n",
       "</table>\n",
       "</div>"
      ],
      "text/plain": [
       "                  0         1         2         3  predictions\n",
       "player_id                                                     \n",
       "11904      0.995934  0.002583  0.001251  0.000232          0.0\n",
       "11945      0.992242  0.005301  0.002085  0.000373          0.0\n",
       "11972      0.929986  0.032486  0.030978  0.006549          0.0\n",
       "12015      0.992080  0.004390  0.003016  0.000514          0.0\n",
       "12034      0.995563  0.002950  0.001256  0.000231          0.0"
      ]
     },
     "execution_count": 22,
     "metadata": {},
     "output_type": "execute_result"
    }
   ],
   "source": [
    "prob_2022.head()"
   ]
  },
  {
   "cell_type": "code",
   "execution_count": 23,
   "id": "4723c4d4",
   "metadata": {},
   "outputs": [],
   "source": [
    "final_df = pd.concat([df_2022, prob_2022], axis=1)"
   ]
  },
  {
   "cell_type": "code",
   "execution_count": 24,
   "id": "72c59d60",
   "metadata": {},
   "outputs": [
    {
     "data": {
      "text/html": [
       "<div>\n",
       "<style scoped>\n",
       "    .dataframe tbody tr th:only-of-type {\n",
       "        vertical-align: middle;\n",
       "    }\n",
       "\n",
       "    .dataframe tbody tr th {\n",
       "        vertical-align: top;\n",
       "    }\n",
       "\n",
       "    .dataframe thead th {\n",
       "        text-align: right;\n",
       "    }\n",
       "</style>\n",
       "<table border=\"1\" class=\"dataframe\">\n",
       "  <thead>\n",
       "    <tr style=\"text-align: right;\">\n",
       "      <th></th>\n",
       "      <th>match_id</th>\n",
       "      <th>match_round</th>\n",
       "      <th>player_first_name</th>\n",
       "      <th>player_last_name</th>\n",
       "      <th>player_team</th>\n",
       "      <th>0</th>\n",
       "      <th>1</th>\n",
       "      <th>2</th>\n",
       "      <th>3</th>\n",
       "      <th>predictions</th>\n",
       "    </tr>\n",
       "    <tr>\n",
       "      <th>player_id</th>\n",
       "      <th></th>\n",
       "      <th></th>\n",
       "      <th></th>\n",
       "      <th></th>\n",
       "      <th></th>\n",
       "      <th></th>\n",
       "      <th></th>\n",
       "      <th></th>\n",
       "      <th></th>\n",
       "      <th></th>\n",
       "    </tr>\n",
       "  </thead>\n",
       "  <tbody>\n",
       "    <tr>\n",
       "      <th>11904</th>\n",
       "      <td>16117</td>\n",
       "      <td>1</td>\n",
       "      <td>Tom</td>\n",
       "      <td>Liberatore</td>\n",
       "      <td>Western Bulldogs</td>\n",
       "      <td>0.995934</td>\n",
       "      <td>0.002583</td>\n",
       "      <td>0.001251</td>\n",
       "      <td>0.000232</td>\n",
       "      <td>0.0</td>\n",
       "    </tr>\n",
       "    <tr>\n",
       "      <th>11945</th>\n",
       "      <td>16117</td>\n",
       "      <td>1</td>\n",
       "      <td>Steven</td>\n",
       "      <td>May</td>\n",
       "      <td>Melbourne</td>\n",
       "      <td>0.992242</td>\n",
       "      <td>0.005301</td>\n",
       "      <td>0.002085</td>\n",
       "      <td>0.000373</td>\n",
       "      <td>0.0</td>\n",
       "    </tr>\n",
       "    <tr>\n",
       "      <th>11972</th>\n",
       "      <td>16117</td>\n",
       "      <td>1</td>\n",
       "      <td>Max</td>\n",
       "      <td>Gawn</td>\n",
       "      <td>Melbourne</td>\n",
       "      <td>0.929986</td>\n",
       "      <td>0.032486</td>\n",
       "      <td>0.030978</td>\n",
       "      <td>0.006549</td>\n",
       "      <td>0.0</td>\n",
       "    </tr>\n",
       "    <tr>\n",
       "      <th>12015</th>\n",
       "      <td>16117</td>\n",
       "      <td>1</td>\n",
       "      <td>Tom</td>\n",
       "      <td>McDonald</td>\n",
       "      <td>Melbourne</td>\n",
       "      <td>0.992080</td>\n",
       "      <td>0.004390</td>\n",
       "      <td>0.003016</td>\n",
       "      <td>0.000514</td>\n",
       "      <td>0.0</td>\n",
       "    </tr>\n",
       "    <tr>\n",
       "      <th>12034</th>\n",
       "      <td>16117</td>\n",
       "      <td>1</td>\n",
       "      <td>Adam</td>\n",
       "      <td>Tomlinson</td>\n",
       "      <td>Melbourne</td>\n",
       "      <td>0.995563</td>\n",
       "      <td>0.002950</td>\n",
       "      <td>0.001256</td>\n",
       "      <td>0.000231</td>\n",
       "      <td>0.0</td>\n",
       "    </tr>\n",
       "  </tbody>\n",
       "</table>\n",
       "</div>"
      ],
      "text/plain": [
       "           match_id  match_round player_first_name player_last_name  \\\n",
       "player_id                                                             \n",
       "11904         16117            1               Tom       Liberatore   \n",
       "11945         16117            1            Steven              May   \n",
       "11972         16117            1               Max             Gawn   \n",
       "12015         16117            1               Tom         McDonald   \n",
       "12034         16117            1              Adam        Tomlinson   \n",
       "\n",
       "                player_team         0         1         2         3  \\\n",
       "player_id                                                             \n",
       "11904      Western Bulldogs  0.995934  0.002583  0.001251  0.000232   \n",
       "11945             Melbourne  0.992242  0.005301  0.002085  0.000373   \n",
       "11972             Melbourne  0.929986  0.032486  0.030978  0.006549   \n",
       "12015             Melbourne  0.992080  0.004390  0.003016  0.000514   \n",
       "12034             Melbourne  0.995563  0.002950  0.001256  0.000231   \n",
       "\n",
       "           predictions  \n",
       "player_id               \n",
       "11904              0.0  \n",
       "11945              0.0  \n",
       "11972              0.0  \n",
       "12015              0.0  \n",
       "12034              0.0  "
      ]
     },
     "execution_count": 24,
     "metadata": {},
     "output_type": "execute_result"
    }
   ],
   "source": [
    "final_df.head()"
   ]
  },
  {
   "cell_type": "code",
   "execution_count": 25,
   "id": "84005467",
   "metadata": {},
   "outputs": [
    {
     "name": "stderr",
     "output_type": "stream",
     "text": [
      "/Users/rileymacdonald/miniconda3/envs/afl/lib/python3.11/site-packages/pandas/io/parquet.py:159: UserWarning: The DataFrame has column names of mixed type. They will be converted to strings and not roundtrip correctly.\n",
      "  table = self.api.Table.from_pandas(df, **from_pandas_kwargs)\n"
     ]
    }
   ],
   "source": [
    "final_df.to_parquet('../../data/curated/2022_vote_probs.parquet')"
   ]
  },
  {
   "cell_type": "code",
   "execution_count": null,
   "id": "d4b8634c",
   "metadata": {},
   "outputs": [],
   "source": []
  },
  {
   "cell_type": "code",
   "execution_count": null,
   "id": "2f8278f3",
   "metadata": {},
   "outputs": [],
   "source": []
  },
  {
   "cell_type": "code",
   "execution_count": null,
   "id": "547630ef",
   "metadata": {},
   "outputs": [],
   "source": []
  }
 ],
 "metadata": {
  "kernelspec": {
   "display_name": "Python 3 (ipykernel)",
   "language": "python",
   "name": "python3"
  },
  "language_info": {
   "codemirror_mode": {
    "name": "ipython",
    "version": 3
   },
   "file_extension": ".py",
   "mimetype": "text/x-python",
   "name": "python",
   "nbconvert_exporter": "python",
   "pygments_lexer": "ipython3",
   "version": "3.11.4"
  }
 },
 "nbformat": 4,
 "nbformat_minor": 5
}
